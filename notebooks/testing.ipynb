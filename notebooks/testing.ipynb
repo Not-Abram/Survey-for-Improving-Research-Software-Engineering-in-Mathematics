{
 "cells": [
  {
   "cell_type": "code",
   "execution_count": 1,
   "metadata": {},
   "outputs": [],
   "source": [
    "import matplotlib.pyplot as plt\n",
    "import pandas as pd"
   ]
  },
  {
   "cell_type": "code",
   "execution_count": 7,
   "metadata": {},
   "outputs": [],
   "source": [
    "IRSEM = pd.read_csv('data/IRSEM_Results.csv')\n",
    "URSSI = pd.read_csv('data/URSSI_survey_anonymized20210930.csv')"
   ]
  },
  {
   "cell_type": "markdown",
   "metadata": {},
   "source": [
    "• Remove empty columns & rows\n",
    "\n",
    "• Test loading results based on question numbers\n",
    "\n",
    "• Make bar graphs for each question in set, divide by section\n",
    "\n",
    "QUESTION FORMAT: Qa.b_c where a is the section (starting at 0), b is the question, and c is the subquestion\n",
    "\n",
    "note some Qa.b.d_c - might need to rename/fix \n",
    "\n",
    "• need to figure out what to do w/ the text inputs - might summarize results from them"
   ]
  },
  {
   "cell_type": "code",
   "execution_count": null,
   "metadata": {},
   "outputs": [],
   "source": []
  }
 ],
 "metadata": {
  "kernelspec": {
   "display_name": "Python 3 (ipykernel)",
   "language": "python",
   "name": "python3"
  },
  "language_info": {
   "codemirror_mode": {
    "name": "ipython",
    "version": 3
   },
   "file_extension": ".py",
   "mimetype": "text/x-python",
   "name": "python",
   "nbconvert_exporter": "python",
   "pygments_lexer": "ipython3",
   "version": "3.12.1"
  }
 },
 "nbformat": 4,
 "nbformat_minor": 2
}
